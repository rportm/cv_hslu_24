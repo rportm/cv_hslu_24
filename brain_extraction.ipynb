{
 "cells": [
  {
   "cell_type": "code",
   "id": "initial_id",
   "metadata": {
    "collapsed": true
   },
   "source": [
    "%load_ext autoreload\n",
    "%autoreload 2\n",
    "\n",
    "\n",
    "from src.preprocessing import *\n",
    "from src.display import *"
   ],
   "outputs": [],
   "execution_count": null
  },
  {
   "metadata": {},
   "cell_type": "code",
   "source": "flair_files = [file for file in list_nii_files('data', 'Flair.nii') if 'LesionSeg' not in file]",
   "id": "d4918cff5d4f00ca",
   "outputs": [],
   "execution_count": null
  },
  {
   "metadata": {},
   "cell_type": "code",
   "source": [
    "from deepbet import run_bet  # !pip install deepbet\n",
    "\n",
    "brain_paths = [file.replace('.nii', '-Brain.nii') for file in flair_files]\n",
    "run_bet(flair_files, brain_paths, threshold=.5, n_dilate=0, no_gpu=False)"
   ],
   "id": "6d8273581fef6460",
   "outputs": [],
   "execution_count": null
  },
  {
   "metadata": {},
   "cell_type": "code",
   "source": [
    "# import os\n",
    "# \n",
    "# for input_file in flair_files:  \n",
    "#     output_file = input_file.replace('.nii', '-Brain.nii')\n",
    "#     os.system(f'./synthstrip-docker -i {input_file} -o {output_file}')\n",
    "#     print(f'Brain extracted image saved as {output_file}')"
   ],
   "id": "178d6bc5f8fff38f",
   "outputs": [],
   "execution_count": null
  },
  {
   "metadata": {},
   "cell_type": "code",
   "source": [
    "# from fsl.wrappers import bet  # pip install fslpy\n",
    "# import os\n",
    "# os.environ['FSLDIR'] = os.path.expanduser('~/fsl')\n",
    "# os.environ['FSLOUTPUTTYPE'] = 'NIFTI'\n",
    "# \n",
    "# for input_file in flair_files:  \n",
    "#     output_file = input_file.replace('.nii', '-Brain.nii')\n",
    "#     # Bet params for FLAIR: https://www.researchgate.net/publication/257472602_Optimizing_parameter_choice_for_FSL-Brain_Extraction_Tool_BET_on_3D_T1_images_in_multiple_sclerosis\n",
    "#     bet(input_file, output_file, f=0.3)\n",
    "#     print(f'Brain extracted image saved as {output_file}')"
   ],
   "id": "bdd06f0856674197",
   "outputs": [],
   "execution_count": null
  },
  {
   "metadata": {},
   "cell_type": "code",
   "source": [
    "# import SimpleITK as sitk  # pip install SimpleITK\n",
    "# \n",
    "# for input_file in flair_files:  \n",
    "#     output_file = input_file.replace('.nii', '-Brain.nii')\n",
    "#     \n",
    "#     image = sitk.ReadImage(input_file)\n",
    "#     otsu_filter = sitk.OtsuThresholdImageFilter()\n",
    "#     otsu_filter.SetInsideValue(0)\n",
    "#     otsu_filter.SetOutsideValue(1)\n",
    "#     mask = otsu_filter.Execute(image)\n",
    "#     stripped = sitk.Mask(image, mask)\n",
    "#     sitk.WriteImage(stripped, output_file)\n",
    "#     \n",
    "#     print(f'Brain extracted image saved as {output_file}')"
   ],
   "id": "f16b70087b0451fe",
   "outputs": [],
   "execution_count": null
  },
  {
   "metadata": {},
   "cell_type": "markdown",
   "source": "",
   "id": "93a277b01e7cd65c"
  },
  {
   "metadata": {},
   "cell_type": "code",
   "source": [
    "# import nibabel as nib\n",
    "# from brainextractor import BrainExtractor  # pip install brainextractor\n",
    "# \n",
    "# for input_file in flair_files:\n",
    "#     print(f'Brain extracting {input_file}')\n",
    "#     \n",
    "#     input_img = nib.load(input_file)\n",
    "#     bet = BrainExtractor(img=input_img, bt=0.7)\n",
    "#     bet.run()\n",
    "# \n",
    "#     # save the computed mask out to file\n",
    "#     output_file = input_file.replace('.nii', '-Brain.nii')\n",
    "#     bet.save_mask(output_file)\n",
    "#     print(f'Brain extracted image saved as {output_file}')"
   ],
   "id": "78736969d2135e60",
   "outputs": [],
   "execution_count": null
  },
  {
   "metadata": {},
   "cell_type": "code",
   "source": "",
   "id": "50e680223eec27eb",
   "outputs": [],
   "execution_count": null
  },
  {
   "metadata": {},
   "cell_type": "code",
   "source": "",
   "id": "44099fe81da9af16",
   "outputs": [],
   "execution_count": null
  }
 ],
 "metadata": {
  "kernelspec": {
   "display_name": "Python 3",
   "language": "python",
   "name": "python3"
  },
  "language_info": {
   "codemirror_mode": {
    "name": "ipython",
    "version": 2
   },
   "file_extension": ".py",
   "mimetype": "text/x-python",
   "name": "python",
   "nbconvert_exporter": "python",
   "pygments_lexer": "ipython2",
   "version": "2.7.6"
  }
 },
 "nbformat": 4,
 "nbformat_minor": 5
}
