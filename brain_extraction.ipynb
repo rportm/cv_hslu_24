{
 "cells": [
  {
   "cell_type": "code",
   "id": "initial_id",
   "metadata": {
    "collapsed": true,
    "ExecuteTime": {
     "end_time": "2024-09-14T15:23:39.426693Z",
     "start_time": "2024-09-14T15:23:39.370206Z"
    }
   },
   "source": [
    "%load_ext autoreload\n",
    "%autoreload 2\n",
    "\n",
    "\n",
    "from src.preprocessing import *\n",
    "from src.display import *"
   ],
   "outputs": [
    {
     "name": "stdout",
     "output_type": "stream",
     "text": [
      "The autoreload extension is already loaded. To reload it, use:\n",
      "  %reload_ext autoreload\n"
     ]
    }
   ],
   "execution_count": 5
  },
  {
   "metadata": {
    "ExecuteTime": {
     "end_time": "2024-09-14T15:23:40.649171Z",
     "start_time": "2024-09-14T15:23:40.628008Z"
    }
   },
   "cell_type": "code",
   "source": "flair_files = [file for file in list_nii_files('data', 'Flair.nii') if 'LesionSeg' not in file]",
   "id": "d4918cff5d4f00ca",
   "outputs": [],
   "execution_count": 6
  },
  {
   "metadata": {
    "ExecuteTime": {
     "end_time": "2024-09-14T15:56:11.214934Z",
     "start_time": "2024-09-14T15:55:57.091965Z"
    }
   },
   "cell_type": "code",
   "source": [
    "from deepbet import run_bet  # !pip install deepbet\n",
    "\n",
    "brain_paths = [file.replace('.nii', '-Brain.nii') for file in flair_files]\n",
    "\n",
    "# Shrink mask a bit to cut off more of the skull\n",
    "run_bet(flair_files, brain_paths, threshold=.5, n_dilate=-1, no_gpu=False)"
   ],
   "id": "6d8273581fef6460",
   "outputs": [
    {
     "name": "stderr",
     "output_type": "stream",
     "text": [
      "100%|██████████| 51/51 [00:13<00:00,  3.64it/s]\n"
     ]
    }
   ],
   "execution_count": 17
  },
  {
   "metadata": {},
   "cell_type": "code",
   "source": [
    "# import os\n",
    "# \n",
    "# for input_file in flair_files:  \n",
    "#     output_file = input_file.replace('.nii', '-Brain.nii')\n",
    "#     os.system(f'./synthstrip-docker -i {input_file} -o {output_file}')\n",
    "#     print(f'Brain extracted image saved as {output_file}')"
   ],
   "id": "178d6bc5f8fff38f",
   "outputs": [],
   "execution_count": null
  },
  {
   "metadata": {},
   "cell_type": "code",
   "source": [
    "# from fsl.wrappers import bet  # pip install fslpy\n",
    "# import os\n",
    "# os.environ['FSLDIR'] = os.path.expanduser('~/fsl')\n",
    "# os.environ['FSLOUTPUTTYPE'] = 'NIFTI'\n",
    "# \n",
    "# for input_file in flair_files:  \n",
    "#     output_file = input_file.replace('.nii', '-Brain.nii')\n",
    "#     # Bet params for FLAIR: https://www.researchgate.net/publication/257472602_Optimizing_parameter_choice_for_FSL-Brain_Extraction_Tool_BET_on_3D_T1_images_in_multiple_sclerosis\n",
    "#     bet(input_file, output_file, f=0.3)\n",
    "#     print(f'Brain extracted image saved as {output_file}')"
   ],
   "id": "bdd06f0856674197",
   "outputs": [],
   "execution_count": null
  },
  {
   "metadata": {},
   "cell_type": "code",
   "source": [
    "# import SimpleITK as sitk  # pip install SimpleITK\n",
    "# \n",
    "# for input_file in flair_files:  \n",
    "#     output_file = input_file.replace('.nii', '-Brain.nii')\n",
    "#     \n",
    "#     image = sitk.ReadImage(input_file)\n",
    "#     otsu_filter = sitk.OtsuThresholdImageFilter()\n",
    "#     otsu_filter.SetInsideValue(0)\n",
    "#     otsu_filter.SetOutsideValue(1)\n",
    "#     mask = otsu_filter.Execute(image)\n",
    "#     stripped = sitk.Mask(image, mask)\n",
    "#     sitk.WriteImage(stripped, output_file)\n",
    "#     \n",
    "#     print(f'Brain extracted image saved as {output_file}')"
   ],
   "id": "f16b70087b0451fe",
   "outputs": [],
   "execution_count": null
  },
  {
   "metadata": {},
   "cell_type": "markdown",
   "source": "",
   "id": "93a277b01e7cd65c"
  },
  {
   "metadata": {},
   "cell_type": "code",
   "source": [
    "# import nibabel as nib\n",
    "# from brainextractor import BrainExtractor  # pip install brainextractor\n",
    "# \n",
    "# for input_file in flair_files:\n",
    "#     print(f'Brain extracting {input_file}')\n",
    "#     \n",
    "#     input_img = nib.load(input_file)\n",
    "#     bet = BrainExtractor(img=input_img, bt=0.7)\n",
    "#     bet.run()\n",
    "# \n",
    "#     # save the computed mask out to file\n",
    "#     output_file = input_file.replace('.nii', '-Brain.nii')\n",
    "#     bet.save_mask(output_file)\n",
    "#     print(f'Brain extracted image saved as {output_file}')"
   ],
   "id": "78736969d2135e60",
   "outputs": [],
   "execution_count": null
  },
  {
   "metadata": {},
   "cell_type": "code",
   "source": "",
   "id": "50e680223eec27eb",
   "outputs": [],
   "execution_count": null
  },
  {
   "metadata": {},
   "cell_type": "code",
   "source": "",
   "id": "44099fe81da9af16",
   "outputs": [],
   "execution_count": null
  }
 ],
 "metadata": {
  "kernelspec": {
   "display_name": "Python 3",
   "language": "python",
   "name": "python3"
  },
  "language_info": {
   "codemirror_mode": {
    "name": "ipython",
    "version": 2
   },
   "file_extension": ".py",
   "mimetype": "text/x-python",
   "name": "python",
   "nbconvert_exporter": "python",
   "pygments_lexer": "ipython2",
   "version": "2.7.6"
  }
 },
 "nbformat": 4,
 "nbformat_minor": 5
}
